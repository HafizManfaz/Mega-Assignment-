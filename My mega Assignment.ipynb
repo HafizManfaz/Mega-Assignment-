{
 "cells": [
  {
   "cell_type": "markdown",
   "metadata": {},
   "source": [
    "# 1. Which of the following terms are related to dictionaries?\n"
   ]
  },
  {
   "cell_type": "code",
   "execution_count": null,
   "metadata": {},
   "outputs": [],
   "source": [
    "# a. value\n",
    "# b. item\n",
    "# c. index\n",
    "# d. key"
   ]
  },
  {
   "cell_type": "markdown",
   "metadata": {},
   "source": [
    "# 1.Ans a,b,d"
   ]
  },
  {
   "cell_type": "markdown",
   "metadata": {},
   "source": [
    "# 2.Just like lists, + operator is used to extend dictionaries?"
   ]
  },
  {
   "cell_type": "code",
   "execution_count": null,
   "metadata": {},
   "outputs": [],
   "source": [
    "# a. True\n",
    "# b. False\n"
   ]
  },
  {
   "cell_type": "markdown",
   "metadata": {},
   "source": [
    "# 2. Ans b"
   ]
  },
  {
   "cell_type": "markdown",
   "metadata": {},
   "source": [
    "# 3. To access items from a dictionary, we specify the index of that item within [] like myDict[0]?\n",
    "\n"
   ]
  },
  {
   "cell_type": "code",
   "execution_count": 1,
   "metadata": {},
   "outputs": [],
   "source": [
    "# a. True\n",
    "# b. False"
   ]
  },
  {
   "cell_type": "markdown",
   "metadata": {},
   "source": [
    "# 3. Ans b"
   ]
  },
  {
   "cell_type": "markdown",
   "metadata": {},
   "source": [
    "# 4. When we use [] to access the value from a dictionary which does not exist in that dictionary….?\n",
    "\n"
   ]
  },
  {
   "cell_type": "code",
   "execution_count": 2,
   "metadata": {},
   "outputs": [],
   "source": [
    "#a. Value within [] is added to the dictionary\n",
    "#b. Value None is returned\n",
    "#c. New dictionary is created\n",
    "#d. None of above"
   ]
  },
  {
   "cell_type": "markdown",
   "metadata": {},
   "source": [
    "# 4.Ans d"
   ]
  },
  {
   "cell_type": "markdown",
   "metadata": {},
   "source": [
    "# 5. What does return the pop method of a dictionary?\n",
    "\n"
   ]
  },
  {
   "cell_type": "code",
   "execution_count": null,
   "metadata": {},
   "outputs": [],
   "source": [
    "#a. list\n",
    "#b. tuple containing the pair of last item of the dictionary\n",
    "#c. dictionary\n",
    "#d. value of the key, if it exists in the dictionary"
   ]
  },
  {
   "cell_type": "markdown",
   "metadata": {},
   "source": [
    "# 5.Ans d"
   ]
  },
  {
   "cell_type": "markdown",
   "metadata": {},
   "source": [
    "# 6. What does return popitem method return?\n",
    "\n"
   ]
  },
  {
   "cell_type": "code",
   "execution_count": 4,
   "metadata": {},
   "outputs": [],
   "source": [
    "#a. dictionary\n",
    "#b. tupple containing the pair of last item of the dictionary\n",
    "#c. list\n",
    "#d. value of key, if it exists in the dictionary"
   ]
  },
  {
   "cell_type": "code",
   "execution_count": null,
   "metadata": {},
   "outputs": [],
   "source": [
    "6.Ans b"
   ]
  },
  {
   "cell_type": "markdown",
   "metadata": {},
   "source": [
    "# 7.Which of the following 2 methods can be used to iterate through the items of a dictionary?\n"
   ]
  },
  {
   "cell_type": "code",
   "execution_count": null,
   "metadata": {},
   "outputs": [],
   "source": [
    "#a. items()\n",
    "#b. values()\n",
    "#c. indexes()\n",
    "#d. keys()"
   ]
  },
  {
   "cell_type": "markdown",
   "metadata": {},
   "source": [
    "# Ans b,d"
   ]
  },
  {
   "cell_type": "markdown",
   "metadata": {},
   "source": [
    "# 8. Which one of the following is used to enclose a dictionary?\n",
    "\n"
   ]
  },
  {
   "cell_type": "code",
   "execution_count": null,
   "metadata": {},
   "outputs": [],
   "source": [
    "#a. () parenthesis\n",
    "#b. {} curly brackets\n",
    "#c. [] square brackets\n",
    "#d. “” quotation marks"
   ]
  },
  {
   "cell_type": "markdown",
   "metadata": {},
   "source": [
    "# Ans b"
   ]
  },
  {
   "cell_type": "markdown",
   "metadata": {},
   "source": [
    "# 9. Write Python Program add key-value pair in dictionary and check if a Given Key or Value or Both Exists in a Dictionary or Not."
   ]
  },
  {
   "cell_type": "code",
   "execution_count": 6,
   "metadata": {},
   "outputs": [
    {
     "name": "stdout",
     "output_type": "stream",
     "text": [
      "{'name': 'Hafiz Manfaz Ali', 'father_name': 'Muhammad Amin', 'id': '12704', 'course': 'A.I', 'institute': 'PIAIC'}\n",
      "Enter a Key:name\n",
      "Your entered key is exist in my_dictionary\n",
      "Are you want to check another key existence ? y/n :n\n",
      "Enter a value:PIAIC\n",
      "Your entered value is exist in my_dictionary\n",
      "Are you want to check another value existence ? y=YES x=NO:y\n",
      "Enter a value:gvhvh\n",
      "Your entered value is not exist in my_dictionary\n",
      "Are you want to check another value existence ? y=YES x=NO:x\n"
     ]
    }
   ],
   "source": [
    "my_dictionary = {}                              # here i created a dictionary name is my_dictionary\n",
    "my_dictionary[\"name\"] = \"Hafiz Manfaz Ali\"      # give a Value \"Hafiz Manfaz Ali\" to key \"name\" in my_dictionary\n",
    "my_dictionary[\"father_name\"] = \"Muhammad Amin\"  # give a Value \"Muhammad Amin\" to key \"father_name\" in my_dictionary\n",
    "my_dictionary[\"id\"] = \"12704\"                   # give a Value \"12704\" to key \"id\" in my_dictionary\n",
    "my_dictionary[\"course\"] = \"A.I\"                 # give a Value \"A.I\" to key \"course\" in my_dictionary\n",
    "my_dictionary[\"institute\"] = \"PIAIC\"            # give a Value \"PIAIC\" to key \"institute\" in my_dictionary\n",
    "print(my_dictionary)                            #\n",
    "exit_var = \"\"\n",
    "while exit_var != \"n\":\n",
    "    user_input_key = input(\"Enter a Key:\")\n",
    "    if user_input_key in my_dictionary:\n",
    "        print(\"Your entered key is exist in my_dictionary\")\n",
    "    else:\n",
    "        print(\"Your entered key is not exist in my_dictionary\")\n",
    "    exit_var = input(\"Are you want to check another key existence ? y/n :\")\n",
    "exit_var = \"\"\n",
    "while exit_var != \"x\":\n",
    "    user_input_value = input(\"Enter a value:\")\n",
    "    if user_input_value in my_dictionary.values():\n",
    "        print(\"Your entered value is exist in my_dictionary\")\n",
    "    else:\n",
    "        print(\"Your entered value is not exist in my_dictionary\")\n",
    "    exit_var = input(\"Are you want to check another value existence ? y=YES x=NO:\")"
   ]
  },
  {
   "cell_type": "markdown",
   "metadata": {},
   "source": [
    "# 11. X = [\"Feb\", Apr, Mar, May, Jun, Jul, Aug, Jan]. What will be output of following?"
   ]
  },
  {
   "cell_type": "code",
   "execution_count": 7,
   "metadata": {},
   "outputs": [
    {
     "name": "stdout",
     "output_type": "stream",
     "text": [
      "['Feb', 'Apr', 'Mar']\n",
      "['Mar', 'May', 'Jun', 'Jul', 'Aug', 'Jan']\n",
      "['Jun', 'Jul', 'Aug', 'Jan']\n",
      "['Apr', 'May', 'Jul']\n",
      "[]\n",
      "['Apr', 'Mar', 'May', 'Jun', 'Jul', 'Aug']\n",
      "['Jan', 'Jul', 'May', 'Apr']\n",
      "['Feb', 'Apr', 'Mar', 'May']\n"
     ]
    }
   ],
   "source": [
    "\n",
    "#      0      1      2      3      4      5      6     7\n",
    "X = [\"Feb\", \"Apr\", \"Mar\", \"May\", \"Jun\", \"Jul\", \"Aug\", \"Jan\"]\n",
    "print(X[0:3])   # ['Feb', 'Apr', 'Mar']\n",
    "print(X[2:8])   # ['Mar', 'May', 'Jun', 'Jul', 'Aug', 'Jan']\n",
    "print(X[4:9])   # ['Jun', 'Jul', 'Aug', 'Jan']\n",
    "print(X[1:7:2]) # ['Apr', 'May', 'Jul']\n",
    "print(X[-1:-7]) # []\n",
    "print(X[-7:7])  # ['Apr', 'Mar', 'May', 'Jun', 'Jul', 'Aug']\n",
    "print(X[-1:-8:-2])  # ['Jan', 'Jul', 'May', 'Apr']\n",
    "print(X[:4])        # ['Feb', 'Apr', 'Mar', 'May']"
   ]
  },
  {
   "cell_type": "markdown",
   "metadata": {},
   "source": [
    "# 12. Remove the correct number from the list X\n"
   ]
  },
  {
   "cell_type": "code",
   "execution_count": 8,
   "metadata": {},
   "outputs": [
    {
     "name": "stdout",
     "output_type": "stream",
     "text": [
      "[2, 8, 4, 5]\n"
     ]
    }
   ],
   "source": [
    "X = [9, 2, 8, 4, 5] # Dear Sir here i could not understand what is mean by correct number , but i solved as i understood\n",
    "X.remove(9)\n",
    "print(X) # [2, 8, 4, 5]"
   ]
  },
  {
   "cell_type": "markdown",
   "metadata": {},
   "source": [
    "# 13 \n"
   ]
  },
  {
   "cell_type": "code",
   "execution_count": 9,
   "metadata": {},
   "outputs": [
    {
     "name": "stdout",
     "output_type": "stream",
     "text": [
      "hello! hello! hello! \n"
     ]
    }
   ],
   "source": [
    "p = 3\n",
    "q = 'hello! '\n",
    "print(q*p)  # hello! hello! hello!"
   ]
  },
  {
   "cell_type": "markdown",
   "metadata": {},
   "source": [
    "# 14.\n"
   ]
  },
  {
   "cell_type": "code",
   "execution_count": 10,
   "metadata": {},
   "outputs": [
    {
     "name": "stdout",
     "output_type": "stream",
     "text": [
      "THIS IS A RANDOM SENTENCE\n"
     ]
    }
   ],
   "source": [
    "y = \"this is a random sentence\"\n",
    "y.upper()\n",
    "print(y.upper())  # THIS IS A RANDOM SENTENCE"
   ]
  },
  {
   "cell_type": "markdown",
   "metadata": {},
   "source": [
    "# 15.\n"
   ]
  },
  {
   "cell_type": "code",
   "execution_count": 11,
   "metadata": {},
   "outputs": [
    {
     "name": "stdout",
     "output_type": "stream",
     "text": [
      "<class 'bool'>\n",
      "<class 'str'>\n",
      "<class 'int'>\n",
      "<class 'float'>\n"
     ]
    }
   ],
   "source": [
    "p = True\n",
    "q = 'True'\n",
    "r = 2\n",
    "s = 2.0\n",
    "print(type(p))  # bool\n",
    "print(type(q))  # str\n",
    "print(type(r))  # int\n",
    "print(type(s))  # float"
   ]
  },
  {
   "cell_type": "markdown",
   "metadata": {},
   "source": [
    "#  16. What are the optional arguments to the function?\n"
   ]
  },
  {
   "cell_type": "code",
   "execution_count": 13,
   "metadata": {},
   "outputs": [],
   "source": [
    "def function_1(R1, q, p=None, R2=None): # in this function p and R2 optional arguments\n",
    "    pass"
   ]
  },
  {
   "cell_type": "markdown",
   "metadata": {},
   "source": [
    "#  17. Which command invokes method X() of the object p?\n"
   ]
  },
  {
   "cell_type": "code",
   "execution_count": 14,
   "metadata": {},
   "outputs": [],
   "source": [
    "# Answer p.x()"
   ]
  },
  {
   "cell_type": "markdown",
   "metadata": {},
   "source": [
    "#  18.\n",
    "\n"
   ]
  },
  {
   "cell_type": "code",
   "execution_count": 15,
   "metadata": {},
   "outputs": [
    {
     "name": "stdout",
     "output_type": "stream",
     "text": [
      "0\n",
      "2.0\n",
      "2\n",
      "2\n"
     ]
    }
   ],
   "source": [
    "X = 4\n",
    "Y = 2\n",
    "print(X % Y)   # 0\n",
    "print(X / Y)   # 2.0\n",
    "print(X // Y)  # 2\n",
    "print(Y % X)   # 2 Sir Here i could not understand that after 2 divide by 4 then remaining will be 2 !!!!!!"
   ]
  },
  {
   "cell_type": "markdown",
   "metadata": {},
   "source": [
    "# 19.19. x = [[4, 1, 1], [5, 9, 0]] \n",
    "# for i in __?__:\n",
    "# for j in __?__:\n",
    "# ?\n"
   ]
  },
  {
   "cell_type": "code",
   "execution_count": 16,
   "metadata": {},
   "outputs": [
    {
     "name": "stdout",
     "output_type": "stream",
     "text": [
      "4\n",
      "1\n",
      "1\n",
      "5\n",
      "9\n",
      "0\n"
     ]
    }
   ],
   "source": [
    "x = [[4, 1, 1], [5, 9, 0]]\n",
    "for i in x:\n",
    "    for j in i:\n",
    "        print(j)"
   ]
  },
  {
   "cell_type": "code",
   "execution_count": 8,
   "metadata": {},
   "outputs": [
    {
     "name": "stdout",
     "output_type": "stream",
     "text": [
      "4\t5\t\n",
      "\n",
      "1\t9\t\n",
      "\n",
      "1\t0\t\n",
      "\n"
     ]
    }
   ],
   "source": [
    "x = [[4, 1, 1], [5, 9, 0]]\n",
    "for i in range(0,3):\n",
    "    for j in range(0,2):\n",
    "        print(x[j][i], end='\\t')\n",
    "    print('\\n')"
   ]
  },
  {
   "cell_type": "code",
   "execution_count": 9,
   "metadata": {},
   "outputs": [
    {
     "name": "stdout",
     "output_type": "stream",
     "text": [
      "4\t1\t1\t5\t9\t0\t"
     ]
    }
   ],
   "source": [
    "\n",
    "x = [[4, 1, 1], [5, 9, 0]]\n",
    "for i in range(0,2):\n",
    "    for j in range(0,3):\n",
    "        print(x[i][j], end = '\\t')"
   ]
  },
  {
   "cell_type": "code",
   "execution_count": 10,
   "metadata": {},
   "outputs": [
    {
     "name": "stdout",
     "output_type": "stream",
     "text": [
      "4\t1\t1\t\n",
      "\n",
      "5\t9\t0\t\n",
      "\n"
     ]
    }
   ],
   "source": [
    " \n",
    "x = [[4, 1, 1], [5, 9, 0]]\n",
    "for i in range(0,2):\n",
    "    for j in range(0,3):\n",
    "        print(x[i][j], end = '\\t')\n",
    "    print('\\n')"
   ]
  },
  {
   "cell_type": "markdown",
   "metadata": {},
   "source": [
    "# 20. q = [10.62, 16.14, 6.45, 17.11]\n",
    "# for __?__, z in enumerate (q) :\n",
    "\n",
    "# Required Output: Item\n",
    "#0 – 10.62\n",
    "#Item 1 – 16.14\n",
    "#Item 2 – 6.45\n",
    "#Item 3 – 17.11"
   ]
  },
  {
   "cell_type": "code",
   "execution_count": 18,
   "metadata": {},
   "outputs": [
    {
     "name": "stdout",
     "output_type": "stream",
     "text": [
      "Item 0- 10.62\n",
      "Item 1- 16.14\n",
      "Item 2- 6.45\n",
      "Item 3- 17.11\n"
     ]
    }
   ],
   "source": [
    "q = [10.62, 16.14, 6.45, 17.11]\n",
    "for j, z in enumerate(q):\n",
    "    print(\"Item \" + str(j) + \"-\", str(z))  # Ans J"
   ]
  },
  {
   "cell_type": "markdown",
   "metadata": {},
   "source": [
    "# 21. Which of these about a dictionary is false?\n"
   ]
  },
  {
   "cell_type": "code",
   "execution_count": 19,
   "metadata": {},
   "outputs": [],
   "source": [
    "#a) The values of a dictionary can be accessed using keys\n",
    "#b) The keys of a dictionary can be accessed using values\n",
    "#c) Dictionaries aren’t ordered\n",
    "#d) Dictionaries are mutable"
   ]
  },
  {
   "cell_type": "markdown",
   "metadata": {},
   "source": [
    "# 21. Ans :The keys of a dictionary can be accessed using values"
   ]
  },
  {
   "cell_type": "markdown",
   "metadata": {},
   "source": [
    "# 22. What is the output of the following:\n",
    "# options are below\n",
    "#a. {0: 1, 1: 1, 2: 1}\n",
    "#b. {1: 0, 1: 1, 1: 2}\n",
    "#c. {0: 1, 1: 2, 2: 3}\n",
    "#d. {1: 2, 1: 1, 1: 0}\n"
   ]
  },
  {
   "cell_type": "code",
   "execution_count": 21,
   "metadata": {},
   "outputs": [
    {
     "name": "stdout",
     "output_type": "stream",
     "text": [
      "{0: 1, 1: 1, 2: 1}\n"
     ]
    }
   ],
   "source": [
    "D = dict()\n",
    "for i in range(3):\n",
    "    for j in range(2):\n",
    "        D[i] = j\n",
    "print(D)  # {0: 1, 1: 1, 2: 1}"
   ]
  },
  {
   "cell_type": "markdown",
   "metadata": {},
   "source": [
    "# 23. You are writing a function that increments player score in a soccer game\n",
    "#If no value is specified for points, then point must start with 1\n",
    "#If no value is specified for bonus, then bonus should be True\n"
   ]
  },
  {
   "cell_type": "code",
   "execution_count": 24,
   "metadata": {},
   "outputs": [],
   "source": [
    "#def increment_score ( bonus , score , points ):\n",
    "    \n",
    "#def increment_score(bonus, score, points = 1): #  Ans True\n",
    "    \n",
    "#def increment_score ( bonus = True , score , points = 1 ): # Ans False because non-default argument follows default argument\n",
    "\n",
    "# Once a parameter is defined with default value,\n",
    "# any parameter to the right must also be defined with default values : True"
   ]
  },
  {
   "cell_type": "markdown",
   "metadata": {},
   "source": [
    "# 24. What will be output?\n",
    "\n",
    "\n"
   ]
  },
  {
   "cell_type": "code",
   "execution_count": 25,
   "metadata": {},
   "outputs": [
    {
     "name": "stdout",
     "output_type": "stream",
     "text": [
      "11.333333333333334\n"
     ]
    }
   ],
   "source": [
    "def avg(x, y, z=50):\n",
    "    adding = x + y + z\n",
    "    avg_value = adding / 3\n",
    "    return avg_value\n",
    "\n",
    "\n",
    "y = avg(x=5, y=9, z=20)\n",
    "print(y)  # Ans 11.333333333333334"
   ]
  },
  {
   "cell_type": "markdown",
   "metadata": {},
   "source": [
    "# 25. What will be output? Describe it with reason and logic behind. Do multiple experiments with\n",
    "# arguments / parameters to remove error, if occurs.\n",
    "\n",
    "\n"
   ]
  },
  {
   "cell_type": "code",
   "execution_count": 26,
   "metadata": {},
   "outputs": [
    {
     "name": "stdout",
     "output_type": "stream",
     "text": [
      "name is Ali Marks:44.5\n"
     ]
    }
   ],
   "source": [
    "def avg(name, *opt_values ): # here was fault in position of parameters but i correct them after experiment\n",
    "    avg_value = sum(opt_values) / len(opt_values)\n",
    "    print(\"name is \" + name + \" Marks:\" + str(avg_value))\n",
    "\n",
    "\n",
    "avg(\"Ali\", 5, 9, 20, 34, 87, 112)  # here was fault in position of parameters"
   ]
  },
  {
   "cell_type": "markdown",
   "metadata": {},
   "source": [
    "# 26. Final output is not required. Just take copy pencil, think and write the output of each line, write down the link\n",
    "# between parameters and arguments. Remove one or two ** from other_info and observe the ouput.\n",
    "\n",
    "\n"
   ]
  },
  {
   "cell_type": "code",
   "execution_count": 27,
   "metadata": {},
   "outputs": [
    {
     "name": "stdout",
     "output_type": "stream",
     "text": [
      "The winner was Manchester\n",
      "The score was 1-0\n"
     ]
    }
   ],
   "source": [
    "def display_result(winner, score, **other_info): # this line define a function and takes 3 arguments 2 normal 1 position\n",
    "    print(\"The winner was \" + winner)  # this line display winner name with concatenate \"The winner was\"\n",
    "    print(\"The score was \" + score)    # this line display score with concatenate \"The score was\"\n",
    "\n",
    "\n",
    "display_result(winner=\"Manchester\", score=\"1-0\", overtime =\"yes\", injuries=\"none\") # this line call to function and pass\n",
    "# arguments \n",
    "# because ** handle more than one variable as dictionary , then we remove it there is an error to store extra arguments."
   ]
  },
  {
   "cell_type": "markdown",
   "metadata": {},
   "source": [
    "# 27. The position of parameters and arguments is re-arranged. Just think and find the logic behind output or error.\n",
    "\n",
    "\n"
   ]
  },
  {
   "cell_type": "code",
   "execution_count": 28,
   "metadata": {},
   "outputs": [
    {
     "name": "stdout",
     "output_type": "stream",
     "text": [
      "The winner was Manchester\n",
      "The score was 1-0\n"
     ]
    }
   ],
   "source": [
    "def display_result(winner, score, **other_info): # normal parameters should be first than list/dict  holder  parameters\n",
    "    print(\"The winner was \" + winner)\n",
    "    print(\"The score was \" + score)\n",
    "\n",
    "display_result(winner=\"Manchester\",score=\"1-0\", overtime =\"yes\", injuries=\"none\") #Rearrnage arguments according function perameters"
   ]
  },
  {
   "cell_type": "markdown",
   "metadata": {},
   "source": [
    "# 28. What will be the output of the following Python expression\n"
   ]
  },
  {
   "cell_type": "code",
   "execution_count": 29,
   "metadata": {},
   "outputs": [
    {
     "name": "stdout",
     "output_type": "stream",
     "text": [
      "000123\n"
     ]
    }
   ],
   "source": [
    "X = 123\n",
    "print(\"%06d\"%X) # Ans 000123"
   ]
  },
  {
   "cell_type": "markdown",
   "metadata": {},
   "source": [
    "# 29. What will be the output of the following Python expression if\n"
   ]
  },
  {
   "cell_type": "code",
   "execution_count": 30,
   "metadata": {},
   "outputs": [
    {
     "name": "stdout",
     "output_type": "stream",
     "text": [
      "22.19\n"
     ]
    }
   ],
   "source": [
    "x = 22.19\n",
    "print(\"%5.2f\"%x)  # Ans 22.19"
   ]
  },
  {
   "cell_type": "markdown",
   "metadata": {},
   "source": [
    "# 30. What will be the output of the following Python code\n"
   ]
  },
  {
   "cell_type": "code",
   "execution_count": 31,
   "metadata": {},
   "outputs": [
    {
     "name": "stdout",
     "output_type": "stream",
     "text": [
      "1.234560, 1.234560, 01.23\n"
     ]
    }
   ],
   "source": [
    "print('{0:f}, {1:2f}, {2:05.2f}'.format(1.23456, 1.23456, 1.23456))  # Ans 1.234560, 1.234560, 01.23"
   ]
  },
  {
   "cell_type": "markdown",
   "metadata": {},
   "source": [
    "# 31. Write down the output of each line after each iterations. Do multiple experiments to change values\n",
    "\n",
    "\n",
    "\n"
   ]
  },
  {
   "cell_type": "code",
   "execution_count": null,
   "metadata": {},
   "outputs": [],
   "source": [
    "# experiment 1\n",
    "i = 1\n",
    "while False:        # initially loop was False so there is no output\n",
    "    if i % 2 == 0:\n",
    "        break\n",
    "        print(i)\n",
    "    i += 2"
   ]
  },
  {
   "cell_type": "code",
   "execution_count": null,
   "metadata": {},
   "outputs": [],
   "source": [
    "# experiment 2\n",
    "i = 1\n",
    "while True:         # Now make to loop True but no output because there is no condition match \n",
    "    if i % 2 == 0:\n",
    "        break\n",
    "        print(i)\n",
    "    i += 2"
   ]
  },
  {
   "cell_type": "code",
   "execution_count": null,
   "metadata": {},
   "outputs": [],
   "source": [
    "# experiment 3\n",
    "i = 4               # here we change the value of i but there is no output due to break keyword before output line\n",
    "while True:         # Now make to loop True but no output because break keyword before output line\n",
    "    if i % 2 == 0:\n",
    "        break\n",
    "        print(i)\n",
    "        i += 2"
   ]
  },
  {
   "cell_type": "code",
   "execution_count": null,
   "metadata": {},
   "outputs": [],
   "source": [
    "# experiment 4\n",
    "i = 4\n",
    "while True:  # Now make to loop True and break keyword to get output unstop\n",
    "    if i % 2 == 0:\n",
    "         print(i)\n",
    "        i += 2\n",
    "print(i)"
   ]
  },
  {
   "cell_type": "markdown",
   "metadata": {},
   "source": [
    "# 32. Write down the output of each line after each iterations. Do multiple experiments to change values\n"
   ]
  },
  {
   "cell_type": "code",
   "execution_count": 1,
   "metadata": {},
   "outputs": [
    {
     "name": "stdout",
     "output_type": "stream",
     "text": [
      "a "
     ]
    }
   ],
   "source": [
    "x = \"abcdef\"       # assign string to x\n",
    "i = \"a\"            # assign string to i\n",
    "while i in x:      # while loop with condition find i in x\n",
    "    x = x[:-1]     # assign new  string 0 index to second last index of old string\n",
    "print(i, end=\" \")  # display the string hold by i which is \"a\""
   ]
  },
  {
   "cell_type": "markdown",
   "metadata": {},
   "source": [
    "#  33. Write down the output of each line after each iterations. Do multiple experiments to change values\n"
   ]
  },
  {
   "cell_type": "code",
   "execution_count": 2,
   "metadata": {},
   "outputs": [
    {
     "name": "stdout",
     "output_type": "stream",
     "text": [
      "d\n",
      "c\n",
      "b\n",
      "a\n"
     ]
    }
   ],
   "source": [
    "for i in ''.join(reversed(list('abcd'))):  #'abcd' is string which convert to list and reverse and finally reverse list convert to string\n",
    "    print(i)"
   ]
  },
  {
   "cell_type": "markdown",
   "metadata": {},
   "source": [
    "# 34. Flow of the program. Write the output of each line after every iteration of    ‘i’\n"
   ]
  },
  {
   "cell_type": "code",
   "execution_count": 3,
   "metadata": {},
   "outputs": [
    {
     "name": "stdout",
     "output_type": "stream",
     "text": [
      "0\n",
      "1\n",
      "2\n",
      "3\n",
      "4\n"
     ]
    }
   ],
   "source": [
    "for i in range(10):  # set for loop to 10 time repeat\n",
    "    if i == 5:       # then in 6th repetition i will be 5 the loop will be finish  due to break key word\n",
    "        break        # finish to loop\n",
    "    else:            # if there is no i = 5 then i value will be print\n",
    "        print(i)\n",
    "    #else:           # there shall be only one else so we should remove other one\n",
    "    #  print(\"Here\")"
   ]
  },
  {
   "cell_type": "markdown",
   "metadata": {},
   "source": [
    "# 35. What is the output? And understand the functionality of lambda function\n"
   ]
  },
  {
   "cell_type": "code",
   "execution_count": 5,
   "metadata": {},
   "outputs": [
    {
     "name": "stdout",
     "output_type": "stream",
     "text": [
      "48\n"
     ]
    }
   ],
   "source": [
    "y = 6               # assign 6 value to y variable\n",
    "z = lambda x: x * y # this lambda function take one argument multiply with y = 6 and return 48 \n",
    "print (z(8))        # call to function z \n",
    "                    # 36. Write output and give proper logic of whatever the output comes.\n",
    "                    # Experiment 1\n"
   ]
  },
  {
   "cell_type": "markdown",
   "metadata": {},
   "source": [
    "# 36. Write output and give proper logic of whatever the output comes.\n",
    " "
   ]
  },
  {
   "cell_type": "code",
   "execution_count": 7,
   "metadata": {},
   "outputs": [
    {
     "name": "stdout",
     "output_type": "stream",
     "text": [
      "0\n"
     ]
    }
   ],
   "source": [
    "i = 0               # assign 0 value to i , Global i\n",
    "\n",
    "def change(i):  # here is i as function parameter , local i\n",
    "    i = i+1     # increase the value of i by 1 , local i\n",
    "    return i    # return new value of i , local i\n",
    "\n",
    "\n",
    "change(1)       # call  to function change and pass value 1 \n",
    "print(i)        # this is the value of global i = 0"
   ]
  },
  {
   "cell_type": "markdown",
   "metadata": {},
   "source": [
    "# Sorry 37 , 38 ,39 Question are miss on Question sheet"
   ]
  },
  {
   "cell_type": "markdown",
   "metadata": {},
   "source": [
    "# 40. What will be output? Define this output clearly"
   ]
  },
  {
   "cell_type": "code",
   "execution_count": 10,
   "metadata": {},
   "outputs": [
    {
     "name": "stdout",
     "output_type": "stream",
     "text": [
      "<class 'tuple'>\n",
      "(2, 3, 4)\n"
     ]
    }
   ],
   "source": [
    "def change(one, *two):  # define a function with name change with two perameters one normal other positional which accept multi value\n",
    "    print(type(two))    # To check the type of positional perameter use type function \n",
    "    print(two)          # display positional perameter to verify\n",
    "change(1,2,3,4)         # call to function change and pass it mulitple values"
   ]
  },
  {
   "cell_type": "markdown",
   "metadata": {},
   "source": [
    "# 41. What will be output? Define this output clearly\n"
   ]
  },
  {
   "cell_type": "code",
   "execution_count": 13,
   "metadata": {},
   "outputs": [
    {
     "name": "stdout",
     "output_type": "stream",
     "text": [
      "<class 'dict'>\n"
     ]
    }
   ],
   "source": [
    "def find(a, **b):   # define a function name find with two perameters one normal one positional which take dictionary as value \n",
    "    print(type(b))  # To check the type of positional perameter use type function \n",
    "find('letters',A='1',B='2') #call to function change and pass it mulitple values\n"
   ]
  },
  {
   "cell_type": "markdown",
   "metadata": {},
   "source": [
    "# 42. Write output and define each line’s output for each iteration of ‘i’\n"
   ]
  },
  {
   "cell_type": "code",
   "execution_count": 16,
   "metadata": {},
   "outputs": [
    {
     "name": "stdout",
     "output_type": "stream",
     "text": [
      "[0]\n",
      "[0, 1]\n",
      "[0, 1, 2]\n"
     ]
    }
   ],
   "source": [
    "def foo(i, x=[]):   # define a function name foo with two perameters one normal one positional because this hold list in my sence\n",
    "    x.append(i)     # add new element in x list by append method and valu will be pass throgh i \n",
    "    return x        # return all values which x have \n",
    "\n",
    "for i in range(3):  # take a loop which repeat 3 time with provided vale to i 0-3 \n",
    "    print(foo(i))   #in first iteration of ‘i’[0], in second [0, 1] and in finally third time [0, 1, 2]"
   ]
  },
  {
   "cell_type": "markdown",
   "metadata": {},
   "source": [
    "# 43. Evaluate the following Python arithmetic expression: and write which segment will execute first? \n",
    "    (Brackets, Exponents, Multiplication, Addition / Subtraction, Left to right rule)"
   ]
  },
  {
   "cell_type": "code",
   "execution_count": 17,
   "metadata": {},
   "outputs": [
    {
     "data": {
      "text/plain": [
       "15"
      ]
     },
     "execution_count": 17,
     "metadata": {},
     "output_type": "execute_result"
    }
   ],
   "source": [
    "(3*(1+2)**2 - (2**2)*3)\n",
    "# (3*(1+2)**2 - (2**2)*3)\n",
    "# first (2**2) = 4 will be execute,second (1+2) = 3 will be execute \n",
    "# (3*(3)**2 - (4)*3)\n",
    "# third (3)**2 = 9 will be execute \n",
    "# (3*9 - (4)*3)\n",
    "#forth (3*9) = 27 and 4*3 = 12 will be execute \n",
    "# (27 -12)\n",
    "# in last 27-12=15 \n"
   ]
  },
  {
   "cell_type": "markdown",
   "metadata": {},
   "source": [
    "# 44.You are creating a function that manipulates a number. The function has the following requirements:\n",
    "# A float is passed into the function\n",
    "# The function must take the absolute value of the float\n",
    "# Any decimal points after the integer must be removed\n",
    "#A. math.fmod(x)\n",
    "#B. math.frexp(x)\n",
    "#C. math.floor(x)\n",
    "#D. math.ceil(x)\n",
    "#E. math.fabs(x)"
   ]
  },
  {
   "cell_type": "code",
   "execution_count": 7,
   "metadata": {},
   "outputs": [
    {
     "name": "stdout",
     "output_type": "stream",
     "text": [
      "2\n"
     ]
    }
   ],
   "source": [
    "import math \n",
    "def my_fun(my_perameter):\n",
    "    internal_var = my_perameter\n",
    "    out = math.floor( internal_var)\n",
    "    return  out\n",
    "print(my_fun(2.6575))\n",
    "    "
   ]
  },
  {
   "cell_type": "markdown",
   "metadata": {},
   "source": [
    "# 45. You are writing code that generates a random integer with a minimum value of 5 and a maximum value of 11.\n",
    "Which two functions should you use? Each correct answer presents a complete solution. (Choose two.)\n",
    "#A. random.randint(5, 12)\n",
    "#B. random.randint(5, 11)\n",
    "#C. random.randrange(5, 12, 1)\n",
    "#D. random.randrange(5, 11, 1)"
   ]
  },
  {
   "cell_type": "code",
   "execution_count": 18,
   "metadata": {},
   "outputs": [],
   "source": [
    "# i choce following two functions\n",
    "#A. random.randint(5, 12)\n",
    "#C. random.randrange(5, 12, 1)"
   ]
  },
  {
   "cell_type": "markdown",
   "metadata": {},
   "source": [
    "# 46. Write a program that receives marks from user and check the grade.\n",
    "#Marks greater than equal to 90 then A grade\n",
    "#Marks between 80 to 90, B grade\n",
    "#Marks between 70 to 80, C grade\n",
    "#Marks between 60 to 70, D grade\n",
    "#Marks less than equal to 60 then E grade"
   ]
  },
  {
   "cell_type": "code",
   "execution_count": 2,
   "metadata": {},
   "outputs": [
    {
     "name": "stdout",
     "output_type": "stream",
     "text": [
      "Enter your Marks 55\n",
      " E grade\n"
     ]
    }
   ],
   "source": [
    "user_input = int(input(\"Enter your Marks \"))\n",
    "if user_input >= 90:\n",
    "    print(\"A grade\")\n",
    "elif user_input >= 80 and user_input < 90:\n",
    "    print(\" B grade\")\n",
    "elif user_input >= 70 and user_input < 80:\n",
    "    print(\"C grade\")\n",
    "elif user_input >= 60 and user_input < 70:\n",
    "    print(\" D grade\")\n",
    "elif user_input <= 60:\n",
    "    print(\" E grade\")"
   ]
  },
  {
   "cell_type": "code",
   "execution_count": null,
   "metadata": {},
   "outputs": [],
   "source": []
  },
  {
   "cell_type": "code",
   "execution_count": null,
   "metadata": {},
   "outputs": [],
   "source": []
  }
 ],
 "metadata": {
  "kernelspec": {
   "display_name": "Python 3",
   "language": "python",
   "name": "python3"
  },
  "language_info": {
   "codemirror_mode": {
    "name": "ipython",
    "version": 3
   },
   "file_extension": ".py",
   "mimetype": "text/x-python",
   "name": "python",
   "nbconvert_exporter": "python",
   "pygments_lexer": "ipython3",
   "version": "3.7.4"
  }
 },
 "nbformat": 4,
 "nbformat_minor": 2
}
